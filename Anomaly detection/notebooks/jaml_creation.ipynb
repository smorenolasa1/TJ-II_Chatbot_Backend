{
 "cells": [
  {
   "cell_type": "markdown",
   "metadata": {},
   "source": [
    "Creating a JAML file to train the LLM model."
   ]
  },
  {
   "cell_type": "code",
   "execution_count": null,
   "metadata": {
    "vscode": {
     "languageId": "plaintext"
    }
   },
   "outputs": [],
   "source": [
    "import json\n",
    "\n",
    "# Initialize an empty list to store JSONL entries\n",
    "jsonl_data = []\n",
    "\n",
    "# Example 1: Filter by date range and include comentarioDesc\n",
    "date_range_start = 20210610\n",
    "date_range_end = 20210611\n",
    "filtered_by_date = data[(data[\"fecha\"] >= date_range_start) & (data[\"fecha\"] <= date_range_end)]\n",
    "\n",
    "prompt_1 = \"Dame una lista de los comentarios que había entre el 20210610 y el 20210616.\"\n",
    "completion_1 = \"\\n\".join(\n",
    "    [f\"- Descarga {row['N_DESCARGA']}: Comentario: {row['comentarioDesc']}\" for _, row in filtered_by_date.iterrows()]\n",
    ")\n",
    "jsonl_data.append({\"prompt\": prompt_1, \"completion\": completion_1})\n",
    "\n",
    "# Example 2: Filter by a threshold on a specific column\n",
    "threshold = 56\n",
    "filtered_by_threshold = data[data[\"posicion_sonda_d4top\"] > threshold]\n",
    "\n",
    "prompt_2 = \"En qué descargas hubo una posición de la sonda mayor a 50?\"\n",
    "completion_2 = \"Descargas: \" + \", \".join(map(str, filtered_by_threshold[\"N_DESCARGA\"].tolist()))\n",
    "jsonl_data.append({\"prompt\": prompt_2, \"completion\": completion_2})\n",
    "\n",
    "\n",
    "# Save the generated training data to a JSONL file\n",
    "output_path = \"../data/llm_training_data.jsonl\"\n",
    "with open(output_path, \"w\") as f:\n",
    "    for entry in jsonl_data:\n",
    "        f.write(json.dumps(entry, ensure_ascii=False) + \"\\n\")\n",
    "\n",
    "print(f\"Training data saved to {output_path}\")"
   ]
  }
 ],
 "metadata": {
  "language_info": {
   "name": "python"
  }
 },
 "nbformat": 4,
 "nbformat_minor": 2
}
