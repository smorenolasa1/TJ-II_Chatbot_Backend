{
 "cells": [
  {
   "cell_type": "code",
   "execution_count": null,
   "metadata": {},
   "outputs": [],
   "source": []
  },
  {
   "cell_type": "markdown",
   "metadata": {},
   "source": [
    "Para que la fecha esté en un formato compatible con SQL y los prompts que mencionaste, lo mejor es convertir \"fecha\": \"20020625.0\" al formato YYYY-MM-DD (\"2002-06-25\").\n",
    "\n",
    "Aquí tienes un script en Python que:\n",
    "✅ Carga el JSON (PARAMETROS_TJ2_clean.json).\n",
    "✅ Transforma la fecha al formato YYYY-MM-DD.\n",
    "✅ Guarda el nuevo JSON (PARAMETROS_TJ2_model_time.json)."
   ]
  },
  {
   "cell_type": "code",
   "execution_count": 7,
   "metadata": {},
   "outputs": [
    {
     "name": "stdout",
     "output_type": "stream",
     "text": [
      "JSON cleaned and saved to data/PARAMETROS_TJ2_model_time.json\n"
     ]
    }
   ],
   "source": [
    "import json\n",
    "\n",
    "# Path to the input JSON file\n",
    "json_file_path = \"data/PARAMETROS_TJ2_model_clean.json\"\n",
    "# Path to the output cleaned JSON file\n",
    "cleaned_json_file_path = \"data/PARAMETROS_TJ2_model_time.json\"\n",
    "\n",
    "# Load JSON data\n",
    "with open(json_file_path, \"r\", encoding=\"utf-8\") as file:\n",
    "    data = json.load(file)\n",
    "\n",
    "# Function to convert \"fecha\" from \"20020625.0\" to \"2002-06-25\"\n",
    "def convert_fecha(fecha_str):\n",
    "    fecha_str = str(int(float(fecha_str)))  # Eliminar .0 y convertir a string\n",
    "    if len(fecha_str) == 8:\n",
    "        return f\"{fecha_str[:4]}-{fecha_str[4:6]}-{fecha_str[6:]}\"  # YYYY-MM-DD\n",
    "    return fecha_str  # Si no tiene el formato esperado, lo deja igual\n",
    "\n",
    "# Transform data\n",
    "for item in data:\n",
    "    if \"fecha\" in item:\n",
    "        item[\"fecha\"] = convert_fecha(item[\"fecha\"])\n",
    "\n",
    "# Save cleaned JSON\n",
    "with open(cleaned_json_file_path, \"w\", encoding=\"utf-8\") as file:\n",
    "    json.dump(data, file, indent=4, ensure_ascii=False)\n",
    "\n",
    "print(f\"JSON cleaned and saved to {cleaned_json_file_path}\")"
   ]
  }
 ],
 "metadata": {
  "kernelspec": {
   "display_name": ".venv",
   "language": "python",
   "name": "python3"
  },
  "language_info": {
   "codemirror_mode": {
    "name": "ipython",
    "version": 3
   },
   "file_extension": ".py",
   "mimetype": "text/x-python",
   "name": "python",
   "nbconvert_exporter": "python",
   "pygments_lexer": "ipython3",
   "version": "3.10.9"
  }
 },
 "nbformat": 4,
 "nbformat_minor": 2
}
