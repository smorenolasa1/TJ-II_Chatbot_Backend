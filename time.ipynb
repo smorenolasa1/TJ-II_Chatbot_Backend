{
 "cells": [
  {
   "cell_type": "code",
   "execution_count": null,
   "metadata": {},
   "outputs": [],
   "source": []
  },
  {
   "cell_type": "markdown",
   "metadata": {},
   "source": [
    "Para que la fecha esté en un formato compatible con SQL y los prompts que mencionaste, lo mejor es convertir \"fecha\": \"20020625.0\" al formato YYYY-MM-DD (\"2002-06-25\").\n",
    "\n",
    "Aquí tienes un script en Python que:\n",
    "✅ Carga el JSON (PARAMETROS_TJ2_clean.json).\n",
    "✅ Transforma la fecha al formato YYYY-MM-DD.\n",
    "✅ Guarda el nuevo JSON (PARAMETROS_TJ2_model_time.json)."
   ]
  },
  {
   "cell_type": "code",
   "execution_count": 7,
   "metadata": {},
   "outputs": [
    {
     "name": "stdout",
     "output_type": "stream",
     "text": [
      "JSON cleaned and saved to data/PARAMETROS_TJ2_model_time.json\n"
     ]
    }
   ],
   "source": [
    "import json\n",
    "\n",
    "# Path to the input JSON file\n",
    "json_file_path = \"data/PARAMETROS_TJ2_model_clean.json\"\n",
    "# Path to the output cleaned JSON file\n",
    "cleaned_json_file_path = \"data/PARAMETROS_TJ2_model_time.json\"\n",
    "\n",
    "# Load JSON data\n",
    "with open(json_file_path, \"r\", encoding=\"utf-8\") as file:\n",
    "    data = json.load(file)\n",
    "\n",
    "# Function to convert \"fecha\" from \"20020625.0\" to \"2002-06-25\"\n",
    "def convert_fecha(fecha_str):\n",
    "    fecha_str = str(int(float(fecha_str)))  # Eliminar .0 y convertir a string\n",
    "    if len(fecha_str) == 8:\n",
    "        return f\"{fecha_str[:4]}-{fecha_str[4:6]}-{fecha_str[6:]}\"  # YYYY-MM-DD\n",
    "    return fecha_str  # Si no tiene el formato esperado, lo deja igual\n",
    "\n",
    "# Transform data\n",
    "for item in data:\n",
    "    if \"fecha\" in item:\n",
    "        item[\"fecha\"] = convert_fecha(item[\"fecha\"])\n",
    "\n",
    "# Save cleaned JSON\n",
    "with open(cleaned_json_file_path, \"w\", encoding=\"utf-8\") as file:\n",
    "    json.dump(data, file, indent=4, ensure_ascii=False)\n",
    "\n",
    "print(f\"JSON cleaned and saved to {cleaned_json_file_path}\")"
   ]
  },
  {
   "cell_type": "code",
   "execution_count": 8,
   "metadata": {},
   "outputs": [
    {
     "name": "stdout",
     "output_type": "stream",
     "text": [
      "  PelletInjections_AP      Unnamed: 1        Unnamed: 2 Unnamed: 3  \\\n",
      "0           Discharge  Injection LIne  Mass (particles)   Vp (m/s)   \n",
      "1               37173               4        2.7931e+19   1196.328   \n",
      "2               37174               4        2.8227e+19   1252.830   \n",
      "3               37176               4        3.1574e+19   1294.470   \n",
      "4               37177               4        1.5312e+19   1234.239   \n",
      "\n",
      "             Unnamed: 4    Unnamed: 5        Unnamed: 6  \\\n",
      "0  T at plasma edge (s)  Tthomson (s)  TS (s) after inj   \n",
      "1              1.054805      1.060400         0.0055951   \n",
      "2              1.054737      1.057400         0.0026629   \n",
      "3              1.054704      1.081620          0.026916   \n",
      "4              1.054610      1.081620          0.027010   \n",
      "\n",
      "                Unnamed: 7                       Unnamed: 8  \\\n",
      "0                 Comments  <Ne> [10^19 m-3] just before PI   \n",
      "1       First TJ-II pellet                              NaN   \n",
      "2  Reduced Ha signal gain                               NaN   \n",
      "3   Broken pellet with gas                              NaN   \n",
      "4           Short ablation                              NaN   \n",
      "\n",
      "              Unnamed: 9  ...     Unnamed: 17        Unnamed: 18 Unnamed: 19  \\\n",
      "0  Ip(kA) just before PI  ...  Injection Line  Pellet particles     Vp (m/s)   \n",
      "1                    NaN  ...             NaN                NaN         NaN   \n",
      "2                    NaN  ...             NaN                NaN         NaN   \n",
      "3                    NaN  ...             NaN                NaN         NaN   \n",
      "4                    NaN  ...             NaN                NaN         NaN   \n",
      "\n",
      "               Unnamed: 20                      Unnamed: 21  \\\n",
      "0  Time at plasma edge (s)  <Ne> [10^19 m-3] just before PI   \n",
      "1                      NaN                              NaN   \n",
      "2                      NaN                              NaN   \n",
      "3                      NaN                              NaN   \n",
      "4                      NaN                              NaN   \n",
      "\n",
      "             Unnamed: 22 Unnamed: 23 Unnamed: 24 Unnamed: 25 Unnamed: 26  \n",
      "0  Ip(kA) just before PI          AU          AV          AW          AX  \n",
      "1                    NaN         NaN         NaN         NaN         NaN  \n",
      "2                    NaN         NaN         NaN         NaN         NaN  \n",
      "3                    NaN         NaN         NaN         NaN         NaN  \n",
      "4                    NaN         NaN         NaN         NaN         NaN  \n",
      "\n",
      "[5 rows x 27 columns]\n"
     ]
    }
   ],
   "source": [
    "import pandas as pd\n",
    "\n",
    "df = pd.read_excel(\"data/PelletInjections_AP.xlsx\")\n",
    "print(df.head())  # Display first few rows"
   ]
  },
  {
   "cell_type": "code",
   "execution_count": 10,
   "metadata": {},
   "outputs": [
    {
     "data": {
      "text/plain": [
       "'data/PelletInjections_AP.csv'"
      ]
     },
     "execution_count": 10,
     "metadata": {},
     "output_type": "execute_result"
    }
   ],
   "source": [
    "import pandas as pd\n",
    "\n",
    "# Load the newly uploaded Excel file\n",
    "file_path = \"data/PelletInjections_AP.xlsx\"  # Path to the uploaded file\n",
    "df = pd.read_excel(file_path, header=None)  # Read without setting headers\n",
    "\n",
    "# Define the output CSV file path\n",
    "csv_file_path = \"data/PelletInjections_AP.csv\"\n",
    "\n",
    "# Save as CSV without modifying column names\n",
    "df.to_csv(csv_file_path, index=False, header=False)\n",
    "\n",
    "# Provide the CSV file path for download\n",
    "csv_file_path"
   ]
  }
 ],
 "metadata": {
  "kernelspec": {
   "display_name": ".venv",
   "language": "python",
   "name": "python3"
  },
  "language_info": {
   "codemirror_mode": {
    "name": "ipython",
    "version": 3
   },
   "file_extension": ".py",
   "mimetype": "text/x-python",
   "name": "python",
   "nbconvert_exporter": "python",
   "pygments_lexer": "ipython3",
   "version": "3.10.9"
  }
 },
 "nbformat": 4,
 "nbformat_minor": 2
}
